{
 "cells": [
  {
   "cell_type": "code",
   "execution_count": 1,
   "id": "498bbc71",
   "metadata": {},
   "outputs": [],
   "source": [
    "import sklearn as sklearn\n",
    "import pandas as pd\n",
    "import math, datetime\n",
    "import matplotlib.pyplot as plt\n",
    "from matplotlib import style\n",
    "\n",
    "import numpy as np\n",
    "from sklearn.model_selection import cross_validate,train_test_split\n",
    "from sklearn import preprocessing, svm\n",
    "from sklearn.svm import LinearSVR\n",
    "\n",
    "from sklearn.linear_model import LinearRegression\n"
   ]
  },
  {
   "cell_type": "code",
   "execution_count": 2,
   "id": "00218b24",
   "metadata": {
    "scrolled": true
   },
   "outputs": [],
   "source": [
    "#Quandl is a platform that offers economical, financial and stocks etc kind of datasets to the user.\n",
    "#it is an open data source platform.\n",
    "\n",
    "#pip install quandl\n",
    "\n",
    "import quandl as quandl"
   ]
  },
  {
   "cell_type": "markdown",
   "id": "7bf7e52d",
   "metadata": {},
   "source": [
    "# Regression"
   ]
  },
  {
   "cell_type": "markdown",
   "id": "f92c5cb8",
   "metadata": {},
   "source": [
    "Regression: The idea of regression is to take continuous data,\n",
    "            and figure  out a best fit lin to that data.\n",
    "\n",
    "Definition: A supervised ML technique used to predict continuous value.\n",
    "Regression goal is to plot best-fit line or a curve between the data.\n",
    "Three metrics considered for evaluating a regression model are variance, bias and error.\n"
   ]
  },
  {
   "cell_type": "code",
   "execution_count": 3,
   "id": "9353f8b2",
   "metadata": {},
   "outputs": [],
   "source": [
    "df=quandl.get('WIKI/GOOGL')"
   ]
  },
  {
   "cell_type": "code",
   "execution_count": 4,
   "id": "b789371b",
   "metadata": {},
   "outputs": [
    {
     "name": "stdout",
     "output_type": "stream",
     "text": [
      "              Open    High     Low    Close      Volume  Ex-Dividend  \\\n",
      "Date                                                                   \n",
      "2004-08-19  100.01  104.06   95.96  100.335  44659000.0          0.0   \n",
      "2004-08-20  101.01  109.08  100.50  108.310  22834300.0          0.0   \n",
      "2004-08-23  110.76  113.48  109.05  109.400  18256100.0          0.0   \n",
      "2004-08-24  111.24  111.60  103.57  104.870  15247300.0          0.0   \n",
      "2004-08-25  104.76  108.00  103.88  106.000   9188600.0          0.0   \n",
      "\n",
      "            Split Ratio  Adj. Open  Adj. High   Adj. Low  Adj. Close  \\\n",
      "Date                                                                   \n",
      "2004-08-19          1.0  50.159839  52.191109  48.128568   50.322842   \n",
      "2004-08-20          1.0  50.661387  54.708881  50.405597   54.322689   \n",
      "2004-08-23          1.0  55.551482  56.915693  54.693835   54.869377   \n",
      "2004-08-24          1.0  55.792225  55.972783  51.945350   52.597363   \n",
      "2004-08-25          1.0  52.542193  54.167209  52.100830   53.164113   \n",
      "\n",
      "            Adj. Volume  \n",
      "Date                     \n",
      "2004-08-19   44659000.0  \n",
      "2004-08-20   22834300.0  \n",
      "2004-08-23   18256100.0  \n",
      "2004-08-24   15247300.0  \n",
      "2004-08-25    9188600.0  \n"
     ]
    }
   ],
   "source": [
    "print(df.head())"
   ]
  },
  {
   "cell_type": "markdown",
   "id": "2cdc9d48",
   "metadata": {},
   "source": [
    "When we are working with a dataset.\n",
    "   We try to look for meaningful features of the dataset. \n",
    "   \n",
    "   Because non meaningful features can become a problem for a ML model\n",
    "   There are many columns above namely open, high, low, close, volume, \n",
    "   Ex-dividend, split, adjusted open, adjusted low, adjusted close, and adjusted volume.\n",
    "   \n",
    "   So, if we try to look for features, you can deduce after the split adjusted values make sense.\n",
    "    Now we are going to extract some columns from the dataset."
   ]
  },
  {
   "cell_type": "code",
   "execution_count": 5,
   "id": "176f45bf",
   "metadata": {},
   "outputs": [],
   "source": [
    "df=df[['Adj. Open','Adj. High','Adj. Low','Adj. Close','Adj. Volume',]]"
   ]
  },
  {
   "cell_type": "markdown",
   "id": "30988774",
   "metadata": {},
   "source": [
    "over here, now we are going to make two new columns using mathematical formula.\n",
    "\n",
    "First column named 'highlow_pct' i.e;  we are calculating the difference percentage between adjusted high and adjusted close. \n",
    "Because there isnot much difference between high and low. And it would become a redundant data for the model.\n",
    "\n",
    "Second column named 'dailychange_pct' i.e; This is calculating the difference between adjusted close value, and adjusted open value.\n"
   ]
  },
  {
   "cell_type": "code",
   "execution_count": 6,
   "id": "739889a7",
   "metadata": {},
   "outputs": [],
   "source": [
    "df['highlow_pct']=(df['Adj. High']-df['Adj. Close'])/df['Adj. Close'] * 100.0\n",
    "df['dailychange_pct']=(df['Adj. Close']-df['Adj. Open'])/df['Adj. Open'] * 100.0"
   ]
  },
  {
   "cell_type": "code",
   "execution_count": 7,
   "id": "9a909359",
   "metadata": {},
   "outputs": [
    {
     "name": "stdout",
     "output_type": "stream",
     "text": [
      "            Adj. Close  highlow_pct  dailychange_pct  Adj. Volume\n",
      "Date                                                             \n",
      "2004-08-19   50.322842     3.712563         0.324968   44659000.0\n",
      "2004-08-20   54.322689     0.710922         7.227007   22834300.0\n",
      "2004-08-23   54.869377     3.729433        -1.227880   18256100.0\n",
      "2004-08-24   52.597363     6.417469        -5.726357   15247300.0\n",
      "2004-08-25   53.164113     1.886792         1.183658    9188600.0\n"
     ]
    }
   ],
   "source": [
    "df=df[['Adj. Close','highlow_pct','dailychange_pct','Adj. Volume']]\n",
    "print(df.head())"
   ]
  },
  {
   "cell_type": "markdown",
   "id": "bf41e2a8",
   "metadata": {},
   "source": [
    "There can be na values in the dataset, instead trying to remove the row or column of na/ Nan. \n",
    "We are replacing their values below with (-99999).\n",
    "Because every data is important for the prediction model.\n",
    "\n",
    "we made a variable and assigned one column, because we are trying to predict the possible outcome in the future."
   ]
  },
  {
   "cell_type": "code",
   "execution_count": 8,
   "id": "0dd5ab28",
   "metadata": {},
   "outputs": [],
   "source": [
    "forecast_col='Adj. Close'\n",
    "df.fillna(-99999, inplace=True)\n"
   ]
  },
  {
   "cell_type": "markdown",
   "id": "f4649d47",
   "metadata": {},
   "source": [
    "now we are going to predict the 2% of dataframe. we are trying to predict the data from future days onward or so. \n",
    "\n",
    "using formula below, we are ceiling the float value into integer. So, 0.01 mean we are predicting some days from now. we can change it however. We can change the value up or down to predict a different outcome."
   ]
  },
  {
   "cell_type": "code",
   "execution_count": 9,
   "id": "f30f4a4b",
   "metadata": {},
   "outputs": [
    {
     "name": "stdout",
     "output_type": "stream",
     "text": [
      "69\n"
     ]
    }
   ],
   "source": [
    "forecast_out=int(math.ceil(0.02*len(df)))\n",
    "print(forecast_out)\n",
    "\n",
    "#this output gives us how much days we are predicting in advance.\n",
    "#As this days become shorter the more accuracy we are going to achieve as an output and viceversa."
   ]
  },
  {
   "cell_type": "markdown",
   "id": "1238db11",
   "metadata": {},
   "source": [
    "we calculated variables which can become features in order to predict an output.\n",
    "briefly, Features are input, And labels are output. \n",
    "We are trying to predict the stock prices in the future on the basis of given features. \n",
    "\n",
    "the label column is an output from an adjusted close column,\n",
    ".shift(); this function with +ve value shifts data down, and wiith -ve value shifts data up.\n",
    "This function is useful to compare current values with past or futures values in a df."
   ]
  },
  {
   "cell_type": "code",
   "execution_count": 10,
   "id": "b194070a",
   "metadata": {},
   "outputs": [],
   "source": [
    "\n",
    "df['label']=df[forecast_col].shift(-forecast_out)\n"
   ]
  },
  {
   "cell_type": "markdown",
   "id": "48d3faec",
   "metadata": {},
   "source": [
    "# Preparing for linear regression model"
   ]
  },
  {
   "cell_type": "code",
   "execution_count": 11,
   "id": "e833f005",
   "metadata": {
    "scrolled": true
   },
   "outputs": [
    {
     "name": "stdout",
     "output_type": "stream",
     "text": [
      "dataset shape is (3355, 5)\n",
      "X and y have sample size.\n",
      "X shape is 3355\n",
      "y shape is 3355\n"
     ]
    },
    {
     "name": "stderr",
     "output_type": "stream",
     "text": [
      "C:\\Users\\adilh\\AppData\\Local\\Temp\\ipykernel_123252\\591521071.py:4: FutureWarning: In a future version of pandas all arguments of DataFrame.drop except for the argument 'labels' will be keyword-only.\n",
      "  X=np.array(df.drop(['label'],1))\n"
     ]
    }
   ],
   "source": [
    "#X is features and y is label.\n",
    "#below we are dropping the label or y column from the dataframe to split X and y for training and testing.\n",
    "\n",
    "X=np.array(df.drop(['label'],1))\n",
    "\n",
    "#So, we are actually predicting X_late over here. As we know the formula for a line is \"y = mx + b\".\n",
    "# now we are trying to achieve m and b.\n",
    "#this will help us understand why linear regression was implemented .\n",
    "\n",
    "#we are trying to forecast from the 10% of the data.\n",
    "#but the data we are trying to predict is not scaled so we scaled all of the data because our data is small.\n",
    "\n",
    "\n",
    "X=preprocessing.scale(X)\n",
    "# This line standardizes the features in the matrix X, which means it transforms, \n",
    "# the data such that it has a mean of 0 and a standard deviation of 1. \n",
    "# This process is also known as z-score normalization.\n",
    "\n",
    "\n",
    "X_late=X[-forecast_out:]\n",
    "#This line creates a new matrix X_late by slicing the last forecast_out rows from the standardized feature matrix X. \n",
    "# This is commonly done in time series forecasting or predictive modeling scenarios \n",
    "# to separate out the data that will be used for future predictions.\n",
    "\n",
    "\n",
    "X=X[:-forecast_out:]\n",
    "# This line updates the original feature matrix X by removing the last forecast_out rows.\n",
    "# This operation effectively removes the data points that will be used for forecasting (which were sliced into X_late).\n",
    "\n",
    "df.dropna(inplace=True) \n",
    "y=np.array(df['label'])\n",
    "\n",
    "#20% of the data is testing data.\n",
    "#This cross-validation function takes features and labels (X,y) shuffles them while \n",
    "#keeping them in order .\n",
    "\n",
    "#So basically we are checking the inconsistency between the features and labels,\n",
    "#if they are consistent, we proceed...\n",
    "#otherwise, we shall check where the inconsistency may fall and trim the optional data.\n",
    "\n",
    "\n",
    "print('dataset shape is', df.shape)\n",
    "\n",
    "\n",
    "if X.shape[0] > y.shape[0]:\n",
    "    print(f\"X have {X.shape[0]-y.shape[0]} more samples than y.\" )\n",
    "    X=X[:y.shape[0]]\n",
    "elif y.shape[0] > X.shape[0]:\n",
    "    print(f\"y have {y.shape[0]-X.shape[0]} more samples than X.\")\n",
    "    y=y[:X.shape[0]]\n",
    "else:\n",
    "    print(\"X and y have sample size.\")\n",
    "    \n",
    "    \n",
    "\n",
    "#rechecking the consistency \n",
    "assert X.shape[0]==y.shape[0], \"Inconsistency still exist\"\n",
    "\n",
    "#print(\"X and y are consistent.\")\n",
    "\n",
    "print('X shape is', X.shape[0])\n",
    "print('y shape is', y.shape[0])\n",
    "\n",
    "#n_jobs: the number of jobs to use for computation. this is basically making the model to work faster.\n",
    "#this gives boost to computation in case of large problem.\n",
    "#n_jobs=-1 means using all processors. N_jobs param can be used to distribute and exploit all the CPU available in local computer.\n",
    "#.fit() is used to train the model on the dataset.\n",
    "\n",
    "X_train, X_test, y_train, y_test = train_test_split(X, y, test_size = 0.2)\n",
    "\n",
    "\n",
    "clf=LinearRegression(n_jobs=-1)\n",
    "clf.fit(X_train, y_train)\n",
    "\n",
    "\n",
    "test_score=clf.score(X_test,y_test)"
   ]
  },
  {
   "cell_type": "code",
   "execution_count": 12,
   "id": "216ebe87",
   "metadata": {},
   "outputs": [
    {
     "name": "stdout",
     "output_type": "stream",
     "text": [
      "[1121.00274056 1135.18356561 1129.91280939 1123.39717648 1120.60755459\n",
      " 1118.76318509 1115.6698333  1109.57064456 1105.11020351 1102.52893016\n",
      " 1122.2954631  1141.32053807 1146.25666668 1161.3213842  1165.52411016\n",
      " 1164.25943632 1161.47414618 1163.36558691 1182.03542943 1182.11612778\n",
      " 1191.63481086 1188.33313214 1196.09046541 1216.90287975 1229.79728141\n",
      " 1224.58213845 1236.23661342 1241.90766467 1240.3050137  1230.77512579\n",
      " 1236.27520948 1234.94648322 1169.29609681 1116.12027607 1132.14659823\n",
      " 1103.47805308 1050.55300253 1090.21518355 1102.83834524 1102.78621579\n",
      " 1121.69313853 1141.54768675 1145.38172029 1153.58588442 1163.66256685\n",
      " 1160.75653861 1179.9534444  1196.04389851 1168.34657615 1154.02833972\n",
      " 1119.78724117 1133.15747733 1144.64516666 1151.85340425 1165.82451564\n",
      " 1181.04638711 1213.37981724 1218.64395169 1191.13184375 1200.96139856\n",
      " 1202.87990606 1185.8515376  1150.09613712 1145.83436477 1143.7230345\n",
      " 1100.79748774 1072.72488498 1102.37969435 1052.12842618] 0.9639320070227462 69\n"
     ]
    }
   ],
   "source": [
    "#so forecast_set is basically the future unknown forecast_out days values that have their roles on stock prices.\n",
    "#forecast_out is the number of days forecasting or predicting.\n",
    "forecast_set=clf.predict(X_late)\n",
    "print(forecast_set, test_score, forecast_out)\n",
    "\n",
    "#so forecast_set is basically the future unknown forecast_out days values "
   ]
  },
  {
   "cell_type": "code",
   "execution_count": 13,
   "id": "68cf0b36",
   "metadata": {},
   "outputs": [
    {
     "name": "stdout",
     "output_type": "stream",
     "text": [
      "            Adj. Close  highlow_pct  dailychange_pct  Adj. Volume  label  \\\n",
      "Date                                                                       \n",
      "2018-02-17         NaN          NaN              NaN          NaN    NaN   \n",
      "2018-02-18         NaN          NaN              NaN          NaN    NaN   \n",
      "2018-02-19         NaN          NaN              NaN          NaN    NaN   \n",
      "2018-02-20         NaN          NaN              NaN          NaN    NaN   \n",
      "2018-02-21         NaN          NaN              NaN          NaN    NaN   \n",
      "\n",
      "               forecast  \n",
      "Date                     \n",
      "2018-02-17  1143.723035  \n",
      "2018-02-18  1100.797488  \n",
      "2018-02-19  1072.724885  \n",
      "2018-02-20  1102.379694  \n",
      "2018-02-21  1052.128426  \n"
     ]
    }
   ],
   "source": [
    "#1. this is creating a column named forecast with its value as NAN.\n",
    "df['forecast']=np.nan\n",
    "#we are going to find last date\n",
    "\n",
    "#2.this line is retreiving the index of the last row (name) from a df (dataframe).\n",
    "last_date = df.iloc[-1].name\n",
    "\n",
    "#3.this line is converting the last_date into time and storing it in a var.\n",
    "last_time = last_date.timestamp()\n",
    "\n",
    "#4.this is just number of seconds in a day.\n",
    "one_day=86400 \n",
    "\n",
    "#5.this line is adding the timestamp of last time with the seconds of a day.\n",
    "next_unix = last_time + one_day\n",
    "\n",
    "#6. this loop appends the forecasted data into the df by adding new row for every new forecasted data.\n",
    "#   this process is allowing us to check out the forecasted data alongside the existing data.\n",
    "\n",
    "for i in forecast_set:\n",
    "    next_date=datetime.datetime.fromtimestamp(next_unix)\n",
    "    next_unix+=one_day\n",
    "    df.loc[next_date]=[np.nan for _ in range(len(df.columns)-1)] + [i]\n",
    "\n",
    "# this np.nan is considering that in all dataframe every other is NAN. \n",
    "# and i is adding values to the forecast column \n",
    "  \n",
    "#we can check df\n",
    "print(df.tail())"
   ]
  },
  {
   "cell_type": "code",
   "execution_count": 14,
   "id": "74734f7d",
   "metadata": {},
   "outputs": [
    {
     "data": {
      "image/png": "[encoded data removed]",
      "text/plain": [
       "<Figure size 640x480 with 1 Axes>"
      ]
     },
     "metadata": {},
     "output_type": "display_data"
    }
   ],
   "source": [
    "df['Adj. Close'].plot()\n",
    "df['forecast'].plot()\n",
    "\n",
    "#changing this value will move the legend on the plot.\n",
    "plt.legend(loc=2)\n",
    "plt.xlabel('Date')\n",
    "plt.ylabel('Price')\n",
    "plt.show()\n",
    "#blue is the known data.\n",
    "#orange represent the predicted/ forecasted data."
   ]
  },
  {
   "cell_type": "code",
   "execution_count": 16,
   "id": "1485a69f",
   "metadata": {},
   "outputs": [
    {
     "data": {
      "text/plain": [
       "'\\nConclusion:\\nSo the graph displays the forecasted values on stock prices for date.\\nwe can forecast stock prices for a single day or number of days depending on ourselves.\\nAbove we forecasted the values for numbers of days displaying the shift in stock prices as we move forward.\\n'"
      ]
     },
     "execution_count": 16,
     "metadata": {},
     "output_type": "execute_result"
    }
   ],
   "source": [
    "\n",
    "'''\n",
    "Conclusion:\n",
    "So the graph displays the forecasted values on stock prices for date.\n",
    "we can forecast stock prices for a single day or number of days depending on ourselves.\n",
    "Above we forecasted the values for numbers of days displaying the shift in stock prices as we move forward.\n",
    "'''\n"
   ]
  },
  {
   "cell_type": "markdown",
   "id": "9dc9493a",
   "metadata": {},
   "source": [
    "Implement a Support Vector Regression"
   ]
  },
  {
   "cell_type": "code",
   "execution_count": 15,
   "id": "004975f7",
   "metadata": {},
   "outputs": [
    {
     "name": "stdout",
     "output_type": "stream",
     "text": [
      "0.5531969943361227\n"
     ]
    }
   ],
   "source": [
    "# When svm is implemented on the dataset, the accuracy falls to near an average.\n",
    "X_train, X_test, y_train, y_test=train_test_split(X, y, test_size=0.2)\n",
    "\n",
    "clff=svm.SVR(kernel='poly')\n",
    "\n",
    "clff.fit(X_train, y_train)\n",
    "\n",
    "test_score=clff.score(X_test,y_test)\n",
    "\n",
    "print(test_score)\n"
   ]
  },
  {
   "cell_type": "code",
   "execution_count": null,
   "id": "8007c60d",
   "metadata": {},
   "outputs": [],
   "source": []
  }
 ],
 "metadata": {
  "kernelspec": {
   "display_name": "Python 3 (ipykernel)",
   "language": "python",
   "name": "python3"
  },
  "language_info": {
   "codemirror_mode": {
    "name": "ipython",
    "version": 3
   },
   "file_extension": ".py",
   "mimetype": "text/x-python",
   "name": "python",
   "nbconvert_exporter": "python",
   "pygments_lexer": "ipython3",
   "version": "3.11.4"
  }
 },
 "nbformat": 4,
 "nbformat_minor": 5
}
